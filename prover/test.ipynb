{
 "cells": [
  {
   "cell_type": "code",
   "execution_count": 2,
   "metadata": {},
   "outputs": [],
   "source": [
    "import os\n",
    "import sys\n",
    "\n",
    "current_dir = os.path.dirname(os.path.abspath('__file__'))\n",
    "parent_dir = os.path.dirname(current_dir)\n",
    "sys.path.append(parent_dir)"
   ]
  },
  {
   "cell_type": "code",
   "execution_count": 3,
   "metadata": {},
   "outputs": [],
   "source": [
    "from loguru import logger"
   ]
  },
  {
   "cell_type": "code",
   "execution_count": 4,
   "metadata": {},
   "outputs": [
    {
     "name": "stdout",
     "output_type": "stream",
     "text": [
      "[2024-05-20 06:06:21,213] [INFO] [real_accelerator.py:203:get_accelerator] Setting ds_accelerator to cuda (auto detect)\n",
      "\u001b[93m [WARNING] \u001b[0m async_io requires the dev libaio .so object and headers but these were not found.\n",
      "\u001b[93m [WARNING] \u001b[0m async_io: please install the libaio-dev package with apt\n",
      "\u001b[93m [WARNING] \u001b[0m If libaio is already installed (perhaps from source), try setting the CFLAGS and LDFLAGS environment variables to where it can be found.\n",
      "\u001b[93m [WARNING] \u001b[0m Please specify the CUTLASS repo directory as environment variable $CUTLASS_PATH\n"
     ]
    },
    {
     "name": "stderr",
     "output_type": "stream",
     "text": [
      "/home/ubuntu/miniconda3/envs/dojo/compiler_compat/ld: cannot find -laio: No such file or directory\n",
      "collect2: error: ld returned 1 exit status\n"
     ]
    },
    {
     "name": "stdout",
     "output_type": "stream",
     "text": [
      "\u001b[93m [WARNING] \u001b[0m sparse_attn requires a torch version >= 1.5 and < 2.0 but detected 2.3\n",
      "\u001b[93m [WARNING] \u001b[0m using untested triton version (2.3.0), only 1.0.0 is known to be compatible\n"
     ]
    }
   ],
   "source": [
    "import os\n",
    "import uuid\n",
    "import json\n",
    "import pickle\n",
    "import hashlib\n",
    "import argparse\n",
    "from loguru import logger\n",
    "from lean_dojo import Theorem\n",
    "from typing import List, Tuple, Optional\n",
    "from lean_dojo import LeanGitRepo, Theorem, Pos, is_available_in_cache\n",
    "\n",
    "from common import set_logger\n",
    "from prover.proof_search import Status, DistributedProver"
   ]
  },
  {
   "cell_type": "code",
   "execution_count": 5,
   "metadata": {},
   "outputs": [],
   "source": [
    "from evaluate import _get_theorems\n",
    "from common import set_logger\n",
    "from prover.proof_search import Status, DistributedProver"
   ]
  },
  {
   "cell_type": "code",
   "execution_count": 6,
   "metadata": {},
   "outputs": [
    {
     "name": "stderr",
     "output_type": "stream",
     "text": [
      "\u001b[32m2024-05-20 06:06:37.348\u001b[0m | \u001b[1mINFO    \u001b[0m | \u001b[36mevaluate\u001b[0m:\u001b[36m_get_theorems_from_files\u001b[0m:\u001b[36m121\u001b[0m - \u001b[1mStarting from 0th theorem named Affine.Triangle.circumsphere_eq_of_dist_of_oangle!\u001b[0m\n",
      "\u001b[32m2024-05-20 06:06:37.349\u001b[0m | \u001b[1mINFO    \u001b[0m | \u001b[36mevaluate\u001b[0m:\u001b[36m_get_theorems_from_files\u001b[0m:\u001b[36m127\u001b[0m - \u001b[1m2000 theorems loaded from ../data/leandojo_benchmark_4/random\u001b[0m\n"
     ]
    },
    {
     "name": "stdout",
     "output_type": "stream",
     "text": [
      "Total number of theorems: 2000\n"
     ]
    }
   ],
   "source": [
    "data_path = \"../data/leandojo_benchmark_4/random\"\n",
    "split = \"val\"\n",
    "file_path = None\n",
    "full_name = None\n",
    "name_filter = None\n",
    "num_theorems = None\n",
    "\n",
    "repo, theorems, positions = _get_theorems(data_path, \n",
    "                                          split, \n",
    "                                          file_path, \n",
    "                                          full_name, \n",
    "                                          name_filter, \n",
    "                                          num_theorems)\n",
    "\n",
    "total_theorems = len(theorems)\n",
    "print(f\"Total number of theorems: {total_theorems}\")"
   ]
  },
  {
   "cell_type": "code",
   "execution_count": 7,
   "metadata": {},
   "outputs": [],
   "source": [
    "#CUDA_VISIBLE_DEVICES=1 python prover/evaluate.py     --data-path data/leandojo_benchmark_4/random/     --ckpt_path leandojo-pl-ckpts/generator_random.ckpt     --split test     --num-workers 5     --num-gpus 1     --num-theorems 1 --start-ind 10"
   ]
  },
  {
   "cell_type": "code",
   "execution_count": 8,
   "metadata": {},
   "outputs": [],
   "source": [
    "from generator.model import RetrievalAugmentedGenerator, FixedTacticGenerator\n",
    "import torch"
   ]
  },
  {
   "cell_type": "code",
   "execution_count": 60,
   "metadata": {},
   "outputs": [],
   "source": [
    "joint_ckpt_path = '/home/ubuntu/dojo/github/reprover-test/lightning_logs/joint_ckpt/reprover-joint/s3upj4dw/checkpoints/checkpoint-epoch=00-step=10000-loss_val=1000.0000-loss_train=0.2334.ckpt'\n",
    "goal_ckpt_path = '/home/ubuntu/dojo/github/reprover-test/lightning_logs/goal/reprover-goal/lkiucv18/checkpoints/checkpoint-epoch=00-step=300-loss_val=0.0000-loss_train=0.1045-timestamp=0.ckpt'\n",
    "tactic_ckpt_path = '/home/ubuntu/dojo/github/reprover-test/lightning_logs/goal_driven_tactic_ckpt/reprover-goal_driven_tactic/abmoy18k/checkpoints/checkpoint-epoch=01-step=100000-loss_val=0.2866-loss_train=0.1084.ckpt'\n",
    "tactic_orig_path = '/home/ubuntu/dojo/github/reprover-test/leandojo-pl-ckpts/generator_random.ckpt'"
   ]
  },
  {
   "cell_type": "code",
   "execution_count": 29,
   "metadata": {},
   "outputs": [
    {
     "data": {
      "text/plain": [
       "'/home/ubuntu/dojo/github/reprover-test/lightning_logs/goal_driven_tactic_ckpt/reprover-goal_driven_tactic/abmoy18k/checkpoints/checkpoint-epoch=01-step=100000-loss_val=0.2866-loss_train=0.1084.ckpt'"
      ]
     },
     "execution_count": 29,
     "metadata": {},
     "output_type": "execute_result"
    }
   ],
   "source": [
    "tactic_ckpt_path"
   ]
  },
  {
   "cell_type": "code",
   "execution_count": 30,
   "metadata": {},
   "outputs": [
    {
     "data": {
      "text/plain": [
       "'/home/ubuntu/dojo/github/reprover-test/lightning_logs/goal/reprover-goal/95eb7gqd/checkpoints/checkpoint-00-150-0.0000-0.1250.ckpt'"
      ]
     },
     "execution_count": 30,
     "metadata": {},
     "output_type": "execute_result"
    }
   ],
   "source": [
    "goal_ckpt_path"
   ]
  },
  {
   "cell_type": "code",
   "execution_count": 61,
   "metadata": {},
   "outputs": [
    {
     "name": "stderr",
     "output_type": "stream",
     "text": [
      "\u001b[32m2024-05-20 07:47:12.975\u001b[0m | \u001b[1mINFO    \u001b[0m | \u001b[36mgenerator.model\u001b[0m:\u001b[36mload\u001b[0m:\u001b[36m157\u001b[0m - \u001b[1mLoading checkpoint from /home/ubuntu/dojo/github/reprover-test/leandojo-pl-ckpts/generator_random.ckpt.\u001b[0m\n"
     ]
    },
    {
     "name": "stdout",
     "output_type": "stream",
     "text": [
      "Processing zero checkpoint '/home/ubuntu/dojo/github/reprover-test/leandojo-pl-ckpts/generator_random.ckpt/checkpoint'\n",
      "Detected checkpoint of type zero stage 2, world_size: 1\n",
      "Parsing checkpoint created by deepspeed==0.14.0\n",
      "Reconstructed fp32 state dict with 170 params 299637760 elements\n",
      "Saving fp32 state dict to /tmp/tmpuaoq5m0b/lightning.cpkt\n"
     ]
    },
    {
     "name": "stderr",
     "output_type": "stream",
     "text": [
      "\u001b[32m2024-05-20 07:47:25.587\u001b[0m | \u001b[1mINFO    \u001b[0m | \u001b[36mgenerator.model\u001b[0m:\u001b[36m__init__\u001b[0m:\u001b[36m130\u001b[0m - \u001b[1mWithout retrieval\u001b[0m\n",
      "/home/ubuntu/.local/lib/python3.10/site-packages/huggingface_hub/file_download.py:1132: FutureWarning: `resume_download` is deprecated and will be removed in version 1.0.0. Downloads always resume when possible. If you want to force a new download, use `force_download=True`.\n",
      "  warnings.warn(\n"
     ]
    }
   ],
   "source": [
    "tac_gen_orig = RetrievalAugmentedGenerator.load(\n",
    "                ckpt_path=tactic_orig_path, \n",
    "                device=torch.device(\"cuda:3\"), \n",
    "                freeze=True\n",
    "            )"
   ]
  },
  {
   "cell_type": "code",
   "execution_count": 10,
   "metadata": {},
   "outputs": [
    {
     "name": "stderr",
     "output_type": "stream",
     "text": [
      "\u001b[32m2024-05-20 06:20:21.744\u001b[0m | \u001b[1mINFO    \u001b[0m | \u001b[36mgenerator.model\u001b[0m:\u001b[36mload\u001b[0m:\u001b[36m157\u001b[0m - \u001b[1mLoading checkpoint from /home/ubuntu/dojo/github/reprover-test/lightning_logs/goal_driven_tactic_ckpt/reprover-goal_driven_tactic/abmoy18k/checkpoints/checkpoint-epoch=01-step=100000-loss_val=0.2866-loss_train=0.1084.ckpt.\u001b[0m\n"
     ]
    },
    {
     "name": "stdout",
     "output_type": "stream",
     "text": [
      "Processing zero checkpoint '/home/ubuntu/dojo/github/reprover-test/lightning_logs/goal_driven_tactic_ckpt/reprover-goal_driven_tactic/abmoy18k/checkpoints/checkpoint-epoch=01-step=100000-loss_val=0.2866-loss_train=0.1084.ckpt/checkpoint'\n",
      "Detected checkpoint of type zero stage 2, world_size: 1\n",
      "Parsing checkpoint created by deepspeed==0.14.2\n",
      "Reconstructed fp32 state dict with 170 params 299637760 elements\n",
      "Saving fp32 state dict to /tmp/tmph9rbhjti/lightning.cpkt\n"
     ]
    },
    {
     "name": "stderr",
     "output_type": "stream",
     "text": [
      "\u001b[32m2024-05-20 06:20:35.464\u001b[0m | \u001b[1mINFO    \u001b[0m | \u001b[36mgenerator.model\u001b[0m:\u001b[36m__init__\u001b[0m:\u001b[36m130\u001b[0m - \u001b[1mWithout retrieval\u001b[0m\n",
      "/home/ubuntu/.local/lib/python3.10/site-packages/huggingface_hub/file_download.py:1132: FutureWarning: `resume_download` is deprecated and will be removed in version 1.0.0. Downloads always resume when possible. If you want to force a new download, use `force_download=True`.\n",
      "  warnings.warn(\n"
     ]
    }
   ],
   "source": [
    "tac_gen = RetrievalAugmentedGenerator.load(\n",
    "                ckpt_path=tactic_ckpt_path, \n",
    "                device=torch.device(\"cuda:0\"), \n",
    "                freeze=True\n",
    "            )"
   ]
  },
  {
   "cell_type": "code",
   "execution_count": 13,
   "metadata": {},
   "outputs": [
    {
     "data": {
      "text/plain": [
       "(299, 1)"
      ]
     },
     "execution_count": 13,
     "metadata": {},
     "output_type": "execute_result"
    }
   ],
   "source": [
    "theorem = theorems[0]\n",
    "positions[0]"
   ]
  },
  {
   "cell_type": "code",
   "execution_count": 11,
   "metadata": {},
   "outputs": [],
   "source": [
    "from lean_dojo import *"
   ]
  },
  {
   "cell_type": "code",
   "execution_count": 14,
   "metadata": {},
   "outputs": [
    {
     "name": "stderr",
     "output_type": "stream",
     "text": [
      "\u001b[32m2024-05-20 06:46:46.968\u001b[0m | \u001b[33m\u001b[1mWARNING \u001b[0m | \u001b[36mlean_dojo.interaction.dojo\u001b[0m:\u001b[36m__init__\u001b[0m:\u001b[36m162\u001b[0m - \u001b[33m\u001b[1mUsing Lean 4 without a hard timeout may hang indefinitely.\u001b[0m\n"
     ]
    }
   ],
   "source": [
    "with Dojo(theorem) as (dojo, init_state):\n",
    "    init_state = init_state"
   ]
  },
  {
   "cell_type": "code",
   "execution_count": 47,
   "metadata": {},
   "outputs": [],
   "source": [
    "def format_goal_driven_ts(ts, ts_) -> str:\n",
    "    return f\"[CURRENT GOAL]\\n{ts}\\n[TARGET GOAL]\\n{ts_}\\n[PROOFSTEP]\\n\"\n",
    "\n",
    "def formal_goal(ts) -> str:\n",
    "    return f\"[CURRENT GOAL]\\n{ts}\\n[TARGET GOAL]\\n\"\n",
    "\n",
    "def format_joint_ts(ts) -> str:\n",
    "    return f\"[CURRENT GOAL]\\n{ts}\\n\""
   ]
  },
  {
   "cell_type": "code",
   "execution_count": 48,
   "metadata": {},
   "outputs": [],
   "source": [
    "ts = init_state.pp\n",
    "ts_ = 'no goals'\n",
    "goal_driven_ts = format_goal_driven_ts(ts, ts_)\n",
    "goal = formal_goal(ts)\n",
    "joint_ts = format_joint_ts(ts)"
   ]
  },
  {
   "cell_type": "code",
   "execution_count": 36,
   "metadata": {},
   "outputs": [
    {
     "name": "stdout",
     "output_type": "stream",
     "text": [
      "[CURRENT GOAL]\n",
      "V : Type u_1\n",
      "P : Type u_2\n",
      "inst✝⁴ : NormedAddCommGroup V\n",
      "inst✝³ : InnerProductSpace ℝ V\n",
      "inst✝² : MetricSpace P\n",
      "inst✝¹ : NormedAddTorsor V P\n",
      "hd2 : Fact (finrank ℝ V = 2)\n",
      "inst✝ : Module.Oriented ℝ V (Fin 2)\n",
      "t : Triangle ℝ P\n",
      "i₁ i₂ i₃ : Fin 3\n",
      "h₁₂ : i₁ ≠ i₂\n",
      "h₁₃ : i₁ ≠ i₃\n",
      "h₂₃ : i₂ ≠ i₃\n",
      "⊢ Simplex.circumsphere t =\n",
      "    {\n",
      "      center :=\n",
      "        ((Real.Angle.tan (∡ (t.points i₁) (t.points i₂) (t.points i₃)))⁻¹ / 2) •\n",
      "            (Orientation.rotation o ↑(π / 2)) (t.points i₃ -ᵥ t.points i₁) +ᵥ\n",
      "          midpoint ℝ (t.points i₁) (t.points i₃),\n",
      "      radius := dist (t.points i₁) (t.points i₃) / |Real.Angle.sin (∡ (t.points i₁) (t.points i₂) (t.points i₃))| / 2 }\n",
      "[TARGET GOAL]\n",
      "no goals\n",
      "[PROOFSTEP]\n",
      "\n"
     ]
    }
   ],
   "source": [
    "print(goal_driven_ts)"
   ]
  },
  {
   "cell_type": "code",
   "execution_count": 37,
   "metadata": {},
   "outputs": [
    {
     "name": "stdout",
     "output_type": "stream",
     "text": [
      "[CURRENT GOAL]\n",
      "V : Type u_1\n",
      "P : Type u_2\n",
      "inst✝⁴ : NormedAddCommGroup V\n",
      "inst✝³ : InnerProductSpace ℝ V\n",
      "inst✝² : MetricSpace P\n",
      "inst✝¹ : NormedAddTorsor V P\n",
      "hd2 : Fact (finrank ℝ V = 2)\n",
      "inst✝ : Module.Oriented ℝ V (Fin 2)\n",
      "t : Triangle ℝ P\n",
      "i₁ i₂ i₃ : Fin 3\n",
      "h₁₂ : i₁ ≠ i₂\n",
      "h₁₃ : i₁ ≠ i₃\n",
      "h₂₃ : i₂ ≠ i₃\n",
      "⊢ Simplex.circumsphere t =\n",
      "    {\n",
      "      center :=\n",
      "        ((Real.Angle.tan (∡ (t.points i₁) (t.points i₂) (t.points i₃)))⁻¹ / 2) •\n",
      "            (Orientation.rotation o ↑(π / 2)) (t.points i₃ -ᵥ t.points i₁) +ᵥ\n",
      "          midpoint ℝ (t.points i₁) (t.points i₃),\n",
      "      radius := dist (t.points i₁) (t.points i₃) / |Real.Angle.sin (∡ (t.points i₁) (t.points i₂) (t.points i₃))| / 2 }\n",
      "[TARGET GOAL]\n",
      "\n"
     ]
    }
   ],
   "source": [
    "print(goal)"
   ]
  },
  {
   "cell_type": "code",
   "execution_count": 49,
   "metadata": {},
   "outputs": [
    {
     "name": "stdout",
     "output_type": "stream",
     "text": [
      "[CURRENT GOAL]\n",
      "V : Type u_1\n",
      "P : Type u_2\n",
      "inst✝⁴ : NormedAddCommGroup V\n",
      "inst✝³ : InnerProductSpace ℝ V\n",
      "inst✝² : MetricSpace P\n",
      "inst✝¹ : NormedAddTorsor V P\n",
      "hd2 : Fact (finrank ℝ V = 2)\n",
      "inst✝ : Module.Oriented ℝ V (Fin 2)\n",
      "t : Triangle ℝ P\n",
      "i₁ i₂ i₃ : Fin 3\n",
      "h₁₂ : i₁ ≠ i₂\n",
      "h₁₃ : i₁ ≠ i₃\n",
      "h₂₃ : i₂ ≠ i₃\n",
      "⊢ Simplex.circumsphere t =\n",
      "    {\n",
      "      center :=\n",
      "        ((Real.Angle.tan (∡ (t.points i₁) (t.points i₂) (t.points i₃)))⁻¹ / 2) •\n",
      "            (Orientation.rotation o ↑(π / 2)) (t.points i₃ -ᵥ t.points i₁) +ᵥ\n",
      "          midpoint ℝ (t.points i₁) (t.points i₃),\n",
      "      radius := dist (t.points i₁) (t.points i₃) / |Real.Angle.sin (∡ (t.points i₁) (t.points i₂) (t.points i₃))| / 2 }\n",
      "\n"
     ]
    }
   ],
   "source": [
    "print(joint_ts)"
   ]
  },
  {
   "cell_type": "code",
   "execution_count": 38,
   "metadata": {},
   "outputs": [
    {
     "data": {
      "text/plain": [
       "'goal_driven_tactic'"
      ]
     },
     "execution_count": 38,
     "metadata": {},
     "output_type": "execute_result"
    }
   ],
   "source": [
    "tac_gen.gen_type"
   ]
  },
  {
   "cell_type": "code",
   "execution_count": 39,
   "metadata": {},
   "outputs": [],
   "source": [
    "def generate_tactics(ts: str, theorem, tac_gen, num_sampled_tactics=5):\n",
    "    import time\n",
    "    t0 = time.monotonic()\n",
    "\n",
    "    path = str(theorem.file_path)\n",
    "\n",
    "    suggestions = tac_gen.generate(\n",
    "        inputs=ts,  # TODO: NEED TO MODIFY THIS TO ADAP DIFFERENT INPUT PATTERNS\n",
    "        file_path=path,\n",
    "        theorem_full_name=theorem.full_name,\n",
    "        theorem_pos=positions[0],\n",
    "        num_samples=num_sampled_tactics,\n",
    "    )\n",
    "\n",
    "    # self.actor_time += time.monotonic() - t0\n",
    "\n",
    "    logger.debug(f\"Tactic suggestions: {suggestions}\")\n",
    "    return suggestions"
   ]
  },
  {
   "cell_type": "code",
   "execution_count": 56,
   "metadata": {},
   "outputs": [],
   "source": [
    "def generate_tactics(ts: str, theorem, tac_gen, num_sampled_tactics=5):\n",
    "    import time\n",
    "    t0 = time.monotonic()\n",
    "\n",
    "    path = str(theorem.file_path)\n",
    "    \n",
    "    if tac_gen.gen_type == 'default':\n",
    "        ts = ts \n",
    "    elif tac_gen.gen_type == 'goal_driven':\n",
    "        ts = format_goal_driven_ts(ts)\n",
    "    elif tac_gen.gen_type == 'joint':\n",
    "        ts = format_joint_ts(ts)\n",
    "\n",
    "    suggestions = tac_gen.generate(\n",
    "        inputs=ts,  # TODO: NEED TO MODIFY THIS TO ADAP DIFFERENT INPUT PATTERNS\n",
    "        file_path=path,\n",
    "        theorem_full_name=theorem.full_name,\n",
    "        theorem_pos=positions[0],\n",
    "        num_samples=num_sampled_tactics,\n",
    "    )\n",
    "\n",
    "    # self.actor_time += time.monotonic() - t0\n",
    "\n",
    "    logger.debug(f\"Tactic suggestions: {suggestions}\")\n",
    "    return suggestions"
   ]
  },
  {
   "cell_type": "code",
   "execution_count": 40,
   "metadata": {},
   "outputs": [],
   "source": [
    "def generate_goal(ts: str, theorem, goal_gen, num_sampled_tactics=5):\n",
    "    import time\n",
    "    t0 = time.monotonic()\n",
    "    \n",
    "    assert goal_gen.gen_type == 'goal'\n",
    "\n",
    "    path = str(theorem.file_path)\n",
    "    current_goal = formal_goal(ts)\n",
    "\n",
    "    suggestions = goal_gen.generate(\n",
    "        inputs=current_goal,  # TODO: NEED TO MODIFY THIS TO ADAP DIFFERENT INPUT PATTERNS\n",
    "        file_path=path,\n",
    "        theorem_full_name=theorem.full_name,\n",
    "        theorem_pos=positions[0],\n",
    "        num_samples=num_sampled_tactics,\n",
    "    )\n",
    "\n",
    "    # self.actor_time += time.monotonic() - t0\n",
    "\n",
    "    logger.debug(f\"Goal suggestions: {suggestions}\")\n",
    "    return suggestions"
   ]
  },
  {
   "cell_type": "code",
   "execution_count": 20,
   "metadata": {},
   "outputs": [],
   "source": [
    "from lean_dojo import *"
   ]
  },
  {
   "cell_type": "code",
   "execution_count": 26,
   "metadata": {},
   "outputs": [],
   "source": [
    "k = generate_tactics(goal_driven_ts, theorem, tac_gen, num_sampled_tactics=5)"
   ]
  },
  {
   "cell_type": "code",
   "execution_count": 27,
   "metadata": {},
   "outputs": [
    {
     "data": {
      "text/plain": [
       "[('rfl', -3.8248703479766846),\n",
       " ('simp [EuclideanGeometry.circumsphere]', -5.000375747680664),\n",
       " ('simp [EuclideanGeometry.circumsphere, h₁₂, h₁₃, h₂₃]', -6.02429723739624),\n",
       " ('simp [EuclideanGeometry.circumsphere, EuclideanGeometry.circumsphere]',\n",
       "  -6.810550689697266),\n",
       " ('rw [EuclideanGeometry.circumsphere_eq_circumsphere h₁₂ h₁₃ h₂₃]',\n",
       "  -7.6300458908081055)]"
      ]
     },
     "execution_count": 27,
     "metadata": {},
     "output_type": "execute_result"
    }
   ],
   "source": [
    "k"
   ]
  },
  {
   "cell_type": "code",
   "execution_count": 32,
   "metadata": {},
   "outputs": [
    {
     "name": "stderr",
     "output_type": "stream",
     "text": [
      "\u001b[32m2024-05-20 07:19:01.400\u001b[0m | \u001b[1mINFO    \u001b[0m | \u001b[36mgenerator.model\u001b[0m:\u001b[36mload\u001b[0m:\u001b[36m157\u001b[0m - \u001b[1mLoading checkpoint from /home/ubuntu/dojo/github/reprover-test/lightning_logs/goal/reprover-goal/lkiucv18/checkpoints/checkpoint-epoch=00-step=300-loss_val=0.0000-loss_train=0.1045-timestamp=0.ckpt.\u001b[0m\n"
     ]
    },
    {
     "name": "stdout",
     "output_type": "stream",
     "text": [
      "Processing zero checkpoint '/home/ubuntu/dojo/github/reprover-test/lightning_logs/goal/reprover-goal/lkiucv18/checkpoints/checkpoint-epoch=00-step=300-loss_val=0.0000-loss_train=0.1045-timestamp=0.ckpt/checkpoint'\n",
      "Detected checkpoint of type zero stage 2, world_size: 1\n",
      "Parsing checkpoint created by deepspeed==0.14.2\n",
      "Reconstructed fp32 state dict with 170 params 299637760 elements\n",
      "Saving fp32 state dict to /tmp/tmp1jjyoakh/lightning.cpkt\n"
     ]
    },
    {
     "name": "stderr",
     "output_type": "stream",
     "text": [
      "\u001b[32m2024-05-20 07:19:17.146\u001b[0m | \u001b[1mINFO    \u001b[0m | \u001b[36mgenerator.model\u001b[0m:\u001b[36m__init__\u001b[0m:\u001b[36m130\u001b[0m - \u001b[1mWithout retrieval\u001b[0m\n",
      "/home/ubuntu/.local/lib/python3.10/site-packages/huggingface_hub/file_download.py:1132: FutureWarning: `resume_download` is deprecated and will be removed in version 1.0.0. Downloads always resume when possible. If you want to force a new download, use `force_download=True`.\n",
      "  warnings.warn(\n"
     ]
    }
   ],
   "source": [
    "goal_gen = RetrievalAugmentedGenerator.load(\n",
    "                ckpt_path=goal_ckpt_path, \n",
    "                device=torch.device(\"cuda:1\"), \n",
    "                freeze=True\n",
    "            )"
   ]
  },
  {
   "cell_type": "code",
   "execution_count": 53,
   "metadata": {},
   "outputs": [
    {
     "name": "stderr",
     "output_type": "stream",
     "text": [
      "\u001b[32m2024-05-20 07:37:55.658\u001b[0m | \u001b[1mINFO    \u001b[0m | \u001b[36mgenerator.model\u001b[0m:\u001b[36mload\u001b[0m:\u001b[36m157\u001b[0m - \u001b[1mLoading checkpoint from /home/ubuntu/dojo/github/reprover-test/lightning_logs/joint_ckpt/reprover-joint/s3upj4dw/checkpoints/checkpoint-epoch=00-step=10000-loss_val=1000.0000-loss_train=0.2334.ckpt.\u001b[0m\n"
     ]
    },
    {
     "name": "stdout",
     "output_type": "stream",
     "text": [
      "Processing zero checkpoint '/home/ubuntu/dojo/github/reprover-test/lightning_logs/joint_ckpt/reprover-joint/s3upj4dw/checkpoints/checkpoint-epoch=00-step=10000-loss_val=1000.0000-loss_train=0.2334.ckpt/checkpoint'\n",
      "Detected checkpoint of type zero stage 2, world_size: 1\n",
      "Parsing checkpoint created by deepspeed==0.14.2\n",
      "Reconstructed fp32 state dict with 170 params 299637760 elements\n",
      "Saving fp32 state dict to /tmp/tmp_9nlea_0/lightning.cpkt\n"
     ]
    },
    {
     "name": "stderr",
     "output_type": "stream",
     "text": [
      "\u001b[32m2024-05-20 07:38:08.384\u001b[0m | \u001b[1mINFO    \u001b[0m | \u001b[36mgenerator.model\u001b[0m:\u001b[36m__init__\u001b[0m:\u001b[36m130\u001b[0m - \u001b[1mWithout retrieval\u001b[0m\n",
      "/home/ubuntu/.local/lib/python3.10/site-packages/huggingface_hub/file_download.py:1132: FutureWarning: `resume_download` is deprecated and will be removed in version 1.0.0. Downloads always resume when possible. If you want to force a new download, use `force_download=True`.\n",
      "  warnings.warn(\n"
     ]
    }
   ],
   "source": [
    "joint_gen = RetrievalAugmentedGenerator.load(\n",
    "                ckpt_path=joint_ckpt_path, \n",
    "                device=torch.device(\"cuda:2\"), \n",
    "                freeze=True\n",
    "            )"
   ]
  },
  {
   "cell_type": "code",
   "execution_count": 57,
   "metadata": {},
   "outputs": [],
   "source": [
    "joint_output = generate_tactics(ts, theorem, joint_gen, num_sampled_tactics=5)"
   ]
  },
  {
   "cell_type": "code",
   "execution_count": 41,
   "metadata": {},
   "outputs": [],
   "source": [
    "target_goals = generate_goal(ts, theorem, goal_gen, num_sampled_tactics=5)"
   ]
  },
  {
   "cell_type": "code",
   "execution_count": 58,
   "metadata": {},
   "outputs": [
    {
     "data": {
      "text/plain": [
       "[('[TARGET GOAL]\\nno goals\\n[PROOFSTEP]\\nsimp [Orientation.rotation]\\n',\n",
       "  -7.7157206535339355),\n",
       " ('[TARGET GOAL]\\nV : Type u_1\\nP : Type u_2\\ninst✝⁴ : NormedAddCommGroup V\\ninst✝³ : InnerProductSpace ℝ V\\ninst✝² : MetricSpace P\\ninst✝¹ : NormedAddTorsor V P\\nhd2 : Fact (finrank ℝ V = 2)\\ninst✝ : Module.Oriented ℝ V (Fin 2)\\nt : Triangle ℝ P\\ni₁ i₂ i₃ : Fin 3\\nh₁₂ : i₁ ≠ i₂\\nh₁₃ : i₁ ≠ i₃\\nh₂₃ : i₂ ≠ i₃\\n⊢ Simplex.circumsphere t =\\n    {\\n      center :=\\n        ((Real.Angle.tan (∡ (t.points i₁) (t.points i₂) (t.points i₃)))⁻¹ / 2) •\\n           (Orientation.rotation o ↑(π / 2)) (t.points i₃ -ᵥ t.points i₁) +ᵥ\\n          midpoint ℝ (t.points i₁) (t.points i₁) (t.points i₃),\\n      radius := dist (t.points i₁) (t.points i₃) / |Real.Angle.sin (∡ (t.points i₁) (t.points i₂) (t.points i₃))| / 2 }\\n[PROOFSTEP]\\nrw [Orientation.rotation_rotation, Orientation.rotation_rotation]\\n',\n",
       "  -21.866575241088867),\n",
       " ('[TARGET GOAL]\\nV : Type u_1\\nP : Type u_2\\ninst✝⁴ : NormedAddCommGroup V\\ninst✝³ : InnerProductSpace ℝ V\\ninst✝² : MetricSpace P\\ninst✝¹ : NormedAddTorsor V P\\nhd2 : Fact (finrank ℝ V = 2)\\ninst✝ : Module.Oriented ℝ V (Fin 2)\\nt : Triangle ℝ P\\ni₁ i₂ i₃ : Fin 3\\nh₁₂ : i₁ ≠ i₂\\nh₁₃ : i₁ ≠ i₃\\nh₂₃ : i₂ ≠ i₃\\n⊢ Simplex.circumsphere t =\\n    {\\n      center :=\\n        ((Real.Angle.tan (∡ (t.points i₁) (t.points i₂) (t.points i₃)))⁻¹ / 2) •\\n           (Orientation.rotation o ↑(π / 2)) (t.points i₃ -ᵥ t.points i₁) +ᵥ\\n          midpoint ℝ (t.points i₁) (t.points i₁) (t.points i₃),\\n      radius := dist (t.points i₁) (t.points i₃) / |Real.Angle.sin (∡ (t.points i₁) (t.points i₂) (t.points i₃))| / 2 }\\n[PROOFSTEP]\\nrw [Orientation.rotation_rotation, Orientation.rotation_rotation, Orientation.rotation_rotation]\\n',\n",
       "  -24.971895217895508),\n",
       " ('[TARGET GOAL]\\nV : Type u_1\\nP : Type u_2\\ninst✝⁴ : NormedAddCommGroup V\\ninst✝³ : InnerProductSpace ℝ V\\ninst✝² : MetricSpace P\\ninst✝¹ : NormedAddTorsor V P\\nhd2 : Fact (finrank ℝ V = 2)\\ninst✝ : Module.Oriented ℝ V (Fin 2)\\nt : Triangle ℝ P\\ni₁ i₂ i₃ : Fin 3\\nh₁₂ : i₁ ≠ i₂\\nh₁₃ : i₁ ≠ i₃\\nh₂₃ : i₂ ≠ i₃\\n⊢ Simplex.circumsphere t =\\n    {\\n      center :=\\n        ((Real.Angle.tan (∡ (t.points i₁) (t.points i₂) (t.points i₃)))⁻¹ / 2) •\\n           (Orientation.rotation o ↑(π / 2)) (t.points i₃ -ᵥ t.points i₁) +ᵥ\\n          midpoint ℝ (t.points i₁) (t.points i₁) (t.points i₃),\\n      radius := dist (t.points i₁) (t.points i₃) / |Real.Angle.sin (∡ (t.points i₁) (t.points i₂) (t.points i₃))| / 2 }\\n[PROOFSTEP]\\nrw [Orientation.rotation_rotation_rotation, Orientation.rotation_rotation, Orientation.rotation_rotation]\\n',\n",
       "  -26.733488082885742),\n",
       " ('[TARGET GOAL]\\nV : Type u_1\\nP : Type u_2\\ninst✝⁴ : NormedAddCommGroup V\\ninst✝³ : InnerProductSpace ℝ V\\ninst✝² : MetricSpace P\\ninst✝¹ : NormedAddTorsor V P\\nhd2 : Fact (finrank ℝ V = 2)\\ninst✝ : Module.Oriented ℝ V (Fin 2)\\nt : Triangle ℝ P\\ni₁ i₂ i₃ : Fin 3\\nh₁₂ : i₁ ≠ i₂\\nh₁₃ : i₁ ≠ i₃\\nh₂₃ : i₂ ≠ i₃\\n⊢ Simplex.circumsphere t =\\n    {\\n      center :=\\n        ((Real.Angle.tan (∡ (t.points i₁) (t.points i₂) (t.points i₃)))⁻¹ / 2) •\\n           (Orientation.rotation o ↑(π / 2)) (t.points i₃ -ᵥ t.points i₁) +ᵥ\\n          midpoint ℝ (t.points i₁) (t.points i₁) (t.points i₃),\\n      radius := dist (t.points i₁) (t.points i₃) / |Real.Angle.sin (∡ (t.points i₁) (t.points i₂) (t.points i₃))| / 2 }\\n[PROOFSTEP]\\nrw [Orientation.rotation_rotation, Orientation.rotation_rotation, Orientation.rotation_rotation, Orientation.rotation_rotation]\\n',\n",
       "  -28.211780548095703)]"
      ]
     },
     "execution_count": 58,
     "metadata": {},
     "output_type": "execute_result"
    }
   ],
   "source": [
    "joint_output"
   ]
  },
  {
   "cell_type": "code",
   "execution_count": 70,
   "metadata": {},
   "outputs": [
    {
     "data": {
      "text/plain": [
       "'simp [Orientation.rotation]'"
      ]
     },
     "execution_count": 70,
     "metadata": {},
     "output_type": "execute_result"
    }
   ],
   "source": [
    "joint_output[0][0].split('[PROOFSTEP]\\n')[-1].strip()"
   ]
  },
  {
   "cell_type": "code",
   "execution_count": 67,
   "metadata": {},
   "outputs": [
    {
     "name": "stdout",
     "output_type": "stream",
     "text": [
      "{ex['tactic']}\n"
     ]
    }
   ],
   "source": [
    "# Example string\n",
    "example_string = \"\"\"[TARGET GOAL]\n",
    "{ex['target_state']}\n",
    "[PROOFSTEP]\n",
    "{ex['tactic']}\"\"\"\n",
    "\n",
    "# Find the index of the '[PROOFSTEP]\\n' marker\n",
    "proofstep_index = example_string.find('[PROOFSTEP]\\n')\n",
    "\n",
    "# Extract the part of the string after the '[PROOFSTEP]\\n' marker\n",
    "if proofstep_index != -1:\n",
    "    result = example_string[proofstep_index + len('[PROOFSTEP]\\n'):]\n",
    "else:\n",
    "    result = None  # Handle the case where the marker is not found\n",
    "\n",
    "print(result)\n"
   ]
  },
  {
   "cell_type": "code",
   "execution_count": 43,
   "metadata": {},
   "outputs": [
    {
     "name": "stdout",
     "output_type": "stream",
     "text": [
      "[CURRENT GOAL]\n",
      "V : Type u_1\n",
      "P : Type u_2\n",
      "inst✝⁴ : NormedAddCommGroup V\n",
      "inst✝³ : InnerProductSpace ℝ V\n",
      "inst✝² : MetricSpace P\n",
      "inst✝¹ : NormedAddTorsor V P\n",
      "hd2 : Fact (finrank ℝ V = 2)\n",
      "inst✝ : Module.Oriented ℝ V (Fin 2)\n",
      "t : Triangle ℝ P\n",
      "i₁ i₂ i₃ : Fin 3\n",
      "h₁₂ : i₁ ≠ i₂\n",
      "h₁₃ : i₁ ≠ i₃\n",
      "h₂₃ : i₂ ≠ i₃\n",
      "⊢ Simplex.circumsphere t =\n",
      "    {\n",
      "      center :=\n",
      "        ((Real.Angle.tan (∡ (t.points i₁) (t.points i₂) (t.points i₃)))⁻¹ / 2) •\n",
      "            (Orientation.rotation o ↑(π / 2)) (t.points i₃ -ᵥ t.points i₁) +ᵥ\n",
      "          midpoint ℝ (t.points i₁) (t.points i₃),\n",
      "      radius := dist (t.points i₁) (t.points i₃) / |Real.Angle.sin (∡ (t.points i₁) (t.points i₂) (t.points i₃))| / 2 }\n",
      "[TARGET GOAL]\n",
      "\n"
     ]
    }
   ],
   "source": [
    "current_goal = formal_goal(ts)\n",
    "print(current_goal)"
   ]
  },
  {
   "cell_type": "code",
   "execution_count": 45,
   "metadata": {},
   "outputs": [
    {
     "data": {
      "text/plain": [
       "2"
      ]
     },
     "execution_count": 45,
     "metadata": {},
     "output_type": "execute_result"
    }
   ],
   "source": [
    "len(target_goals[-1])"
   ]
  },
  {
   "cell_type": "code",
   "execution_count": 46,
   "metadata": {},
   "outputs": [
    {
     "data": {
      "text/plain": [
       "'case intro\\nV : Type u_1\\nP : Type u_2\\ninst✝⁴ : NormedAddCommGroup V\\ninst✝³ : InnerProductSpace ℝ V\\ninst✝² : MetricSpace P\\ninst✝¹ : NormedAddTorsor V P\\nhd2 : Fact (finrank ℝ V = 2)\\ninst✝ : Module.Oriented ℝ V (Fin 2)\\nt : Triangle ℝ P\\ni₁ i₂ i₃ : Fin 3\\nh₁₂ : i₁ ≠ i₂\\nh₁₃ : i₁ ≠ i₃\\nh₂₃ : i₂ ≠ i₃\\n⊢ Simplex.circumsphere t =\\n    {\\n      center :=\\n        ((Real.Angle.tan (∡ (t.points i₁) (t.points i₂) (t.points i₃)))⁻¹ / 2) •\\n            (Orientation.rotation o ↑(π / 2)) (t.points i₃ -ᵥ t.points i₁) +ᵥ\\n          midpoint ℝ (t.points i₁) (t.points i₃),\\n      radius := dist (t.points i₁) (t.points i₃) / |Real.Angle.sin (∡ (t.points i₁) (t.points i₂) (t.points i₃))| / 2 }'"
      ]
     },
     "execution_count": 46,
     "metadata": {},
     "output_type": "execute_result"
    }
   ],
   "source": [
    "target_goals[-1][0]"
   ]
  },
  {
   "cell_type": "code",
   "execution_count": 62,
   "metadata": {},
   "outputs": [],
   "source": [
    "tactic_orig = generate_tactics(ts, theorem, tac_gen_orig, num_sampled_tactics=5)"
   ]
  },
  {
   "cell_type": "code",
   "execution_count": 63,
   "metadata": {},
   "outputs": [
    {
     "data": {
      "text/plain": [
       "[('fin_cases i₁ <;> fin_cases i₂ <;> fin_cases i₂ <;> fin_cases i₃ <;> simp (config := {decide := Bool.true}) at h₁₂ h₁₃ h₂₃ ⊢',\n",
       "  -3.765130043029785),\n",
       " ('clear h₁₂ h₁₃', -3.943025827407837),\n",
       " ('fin_cases i₁ <;> fin_cases i₂ <;> fin_cases i₃ <;> simp (config := {decide := Bool.true}) at h₁₂ h₁₃ h₂₃ ⊢',\n",
       "  -3.9873223304748535),\n",
       " ('fin_cases i₁ <;> fin_cases i₃ <;> simp (config := {decide := Bool.true}) at h₁₂ h₁₃ h₂₃ ⊢',\n",
       "  -4.106309413909912),\n",
       " ('clear h₁₂ h₁₃ h₂₃', -4.790125846862793)]"
      ]
     },
     "execution_count": 63,
     "metadata": {},
     "output_type": "execute_result"
    }
   ],
   "source": [
    "tactic_orig"
   ]
  },
  {
   "cell_type": "code",
   "execution_count": 71,
   "metadata": {},
   "outputs": [
    {
     "data": {
      "text/plain": [
       "'simp [Orientation.rotation]'"
      ]
     },
     "execution_count": 71,
     "metadata": {},
     "output_type": "execute_result"
    }
   ],
   "source": [
    "joint_output[0][0].split('[PROOFSTEP]\\n')[-1].strip()"
   ]
  },
  {
   "cell_type": "code",
   "execution_count": 72,
   "metadata": {},
   "outputs": [
    {
     "data": {
      "text/plain": [
       "'fin_cases i₁ <;> fin_cases i₂ <;> fin_cases i₂ <;> fin_cases i₃ <;> simp (config := {decide := Bool.true}) at h₁₂ h₁₃ h₂₃ ⊢'"
      ]
     },
     "execution_count": 72,
     "metadata": {},
     "output_type": "execute_result"
    }
   ],
   "source": [
    "tactic_orig[0][0]"
   ]
  },
  {
   "cell_type": "code",
   "execution_count": null,
   "metadata": {},
   "outputs": [],
   "source": []
  }
 ],
 "metadata": {
  "kernelspec": {
   "display_name": "Python 3 (ipykernel)",
   "language": "python",
   "name": "python3"
  },
  "language_info": {
   "codemirror_mode": {
    "name": "ipython",
    "version": 3
   },
   "file_extension": ".py",
   "mimetype": "text/x-python",
   "name": "python",
   "nbconvert_exporter": "python",
   "pygments_lexer": "ipython3",
   "version": "3.10.14"
  }
 },
 "nbformat": 4,
 "nbformat_minor": 2
}
