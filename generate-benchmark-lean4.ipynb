{
 "cells": [
  {
   "cell_type": "markdown",
   "id": "7a42dda6",
   "metadata": {},
   "source": [
    "Constructing LeanDojo Benchmark (Lean 4)\n",
    "===================================\n",
    "\n",
    "This script uses [LeanDojo](https://leandojo.org/) to construct LeanDojo Benchmark 4 in the appendix of our paper:\n",
    "\n",
    "[LeanDojo: Theorem Proving with Retrieval-Augmented Language Models](https://leandojo.org/)      \n",
    "NeurIPS 2023 (Datasets and Benchmarks Track)    \n",
    "[Kaiyu Yang](https://yangky11.github.io/), [Aidan Swope](https://aidanswope.com/about), [Alex Gu](https://minimario.github.io/), [Rahul Chalamala](https://rchalamala.github.io/), [Peiyang Song](https://peiyang-song.github.io/), [Shixing Yu](https://billysx.github.io/), [Saad Godil](https://www.linkedin.com/in/saad-godil-9728353/), [Ryan Prenger](https://www.linkedin.com/in/ryan-prenger-18797ba1/), [Anima Anandkumar](http://tensorlab.cms.caltech.edu/users/anima/)\n",
    "\n",
    "The dataset is constructed from [mathlib4](https://github.com/leanprover-community/mathlib4/tree/3c307701fa7e9acbdc0680d7f3b9c9fed9081740) (`3c307701fa7e9acbdc0680d7f3b9c9fed9081740`) and will be saved to `../leandojo_benchmark_4`. It includes 2000 theorems for validation, 2000 theorems for testing, and the rest for training. Please refer to our paper for details. For most use cases, you shouldn't need to generate the data and can directly use our official LeanDojo Benchmark 4 downloadable [here](https://zenodo.org/doi/10.5281/zenodo.8040109).\n",
    "\n",
    "This script is for Lean 4. We also have a [version for Lean 3](https://github.com/lean-dojo/LeanDojo/blob/main/scripts/generate-benchmark-lean3.ipynb).\n"
   ]
  },
  {
   "cell_type": "code",
   "execution_count": 4,
   "id": "5710e141",
   "metadata": {},
   "outputs": [],
   "source": [
    "import json\n",
    "import shutil\n",
    "import random\n",
    "import networkx as nx\n",
    "from copy import copy\n",
    "from pathlib import Path\n",
    "from loguru import logger\n",
    "from datetime import datetime\n",
    "from collections import defaultdict\n",
    "from typing import Dict, List, Union\n",
    "\n",
    "import lean_dojo\n",
    "from lean_dojo import *\n",
    "\n",
    "random.seed(3407)  # https://arxiv.org/abs/2109.08203\n",
    "\n",
    "URL = \"https://github.com/leanprover-community/mathlib4\"\n",
    "COMMIT = \"3c307701fa7e9acbdc0680d7f3b9c9fed9081740\"\n",
    "DST_DIR = Path(\"./leandojo_benchmark_4\")\n",
    "NUM_VAL = NUM_TEST = 2000"
   ]
  },
  {
   "cell_type": "markdown",
   "id": "ae0b666e",
   "metadata": {},
   "source": [
    "## Splitting the Theorems\n",
    "\n",
    "We will split the theorems into train/val/test using two different strategies."
   ]
  },
  {
   "cell_type": "code",
   "execution_count": 2,
   "id": "a34ccdfb",
   "metadata": {},
   "outputs": [],
   "source": [
    "SPLIT_NAME = str  # train/val/test\n",
    "SPLIT = Dict[SPLIT_NAME, List[TracedTheorem]]\n",
    "SPLIT_STRATEGY = str"
   ]
  },
  {
   "cell_type": "markdown",
   "id": "cf5e099d",
   "metadata": {},
   "source": [
    "### Splitting Randomly\n",
    "\n",
    "The first and the simplest strategy is splitting the theorems randomly, which can be implemented by a random shuffle followed by a sequential split."
   ]
  },
  {
   "cell_type": "code",
   "execution_count": 3,
   "id": "f1beb027",
   "metadata": {},
   "outputs": [],
   "source": [
    "def _split_sequentially(\n",
    "    traced_theorems: List[TracedTheorem],\n",
    ") -> SPLIT:\n",
    "    \"\"\"Split ``traced_theorems`` sequentially into train/val/test.\"\"\"\n",
    "    num_theorems = len(traced_theorems)\n",
    "    num_train = num_theorems - NUM_VAL - NUM_TEST\n",
    "    return {\n",
    "        \"train\": traced_theorems[:num_train],\n",
    "        \"val\": traced_theorems[num_train : num_train + NUM_VAL],\n",
    "        \"test\": traced_theorems[num_train + NUM_VAL :],\n",
    "    }\n",
    "\n",
    "\n",
    "def split_randomly(\n",
    "    traced_theorems: List[TracedTheorem],\n",
    ") -> SPLIT:\n",
    "    \"\"\"Split ``traced_theorems`` randomly into train/val/test.\"\"\"\n",
    "    logger.info(\"Splitting the theorems randomly\")\n",
    "    traced_theorems = copy(traced_theorems)\n",
    "    random.shuffle(traced_theorems)\n",
    "    return _split_sequentially(traced_theorems)"
   ]
  },
  {
   "cell_type": "markdown",
   "id": "bc65fe11",
   "metadata": {},
   "source": [
    "### Splitting by Premise\n",
    "\n",
    "The second strategy is splitting by premise. We want to test the prover's capability in using novel premises, i.e., premises that have never been used in training. Please see the implementation below. Note that validation and testing theorems may share premises. So the **testing performance should be reported using models trained on the training set only, NOT training plus validation.**"
   ]
  },
  {
   "cell_type": "code",
   "execution_count": 4,
   "id": "e150f547",
   "metadata": {},
   "outputs": [],
   "source": [
    "def split_by_premise(\n",
    "    traced_theorems: List[TracedTheorem],\n",
    ") -> SPLIT:\n",
    "    \"\"\"\n",
    "    Split theorems into train/val/test so that proofs in val/test rely on at\n",
    "    least one novel premise that does not appear in train.\n",
    "    \"\"\"\n",
    "    logger.info(\"Splitting the theorems by premises\")\n",
    "\n",
    "    # Figure out the number of theorems in train/val/test.\n",
    "    num_theorems = len(traced_theorems)\n",
    "    num_val_test = NUM_VAL + NUM_TEST\n",
    "    num_train = num_theorems - num_val_test\n",
    "    theorems_val_test = set()\n",
    "\n",
    "    # Map each premise to a list of theorems using it.\n",
    "    theorems_by_premises = defaultdict(list)\n",
    "    for t in traced_theorems:\n",
    "        for p in t.get_premise_full_names():\n",
    "            theorems_by_premises[p].append(t)\n",
    "\n",
    "    # Sort the premises by the number of theorems using them (in ascending order).\n",
    "    theorems_by_premises = sorted(theorems_by_premises.items(), key=lambda x: len(x[1]))\n",
    "\n",
    "    # For each premise, put all theorems using it into val_test so that it does not appear in train.\n",
    "    for _, thms in theorems_by_premises:\n",
    "        if len(theorems_val_test) < num_val_test:\n",
    "            theorems_val_test.update(thms)\n",
    "\n",
    "    # All other theorems go to train.\n",
    "    theorems_train = [t for t in traced_theorems if t not in theorems_val_test]\n",
    "    theorems_val_test = list(theorems_val_test)\n",
    "    random.shuffle(theorems_val_test)\n",
    "\n",
    "    return {\n",
    "        \"train\": theorems_train,\n",
    "        \"val\": theorems_val_test[:NUM_VAL],\n",
    "        \"test\": theorems_val_test[NUM_VAL:],\n",
    "    }"
   ]
  },
  {
   "cell_type": "markdown",
   "id": "c0cbecd6",
   "metadata": {},
   "source": [
    "Given a traced repo, we can split the theorems using these strategies."
   ]
  },
  {
   "cell_type": "code",
   "execution_count": 5,
   "id": "03882cc5",
   "metadata": {},
   "outputs": [],
   "source": [
    "def split_data(traced_repo: TracedRepo) -> Dict[SPLIT_STRATEGY, SPLIT]:\n",
    "    # Skip theorems in the Lean 4 repo itself.\n",
    "    traced_theorems = [\n",
    "        thm for thm in traced_repo.get_traced_theorems() if not thm.repo.is_lean4\n",
    "    ]\n",
    "    logger.info(f\"{len(traced_theorems)} theorems in total\")\n",
    "\n",
    "    return {\n",
    "        \"random\": split_randomly(traced_theorems),\n",
    "        \"novel_premises\": split_by_premise(traced_theorems),\n",
    "    }"
   ]
  },
  {
   "cell_type": "markdown",
   "id": "d2b5b015",
   "metadata": {},
   "source": [
    "## Exporting the Data\n",
    "Once theorems are splitted into train/val/test. We export them to JSON formats that can be easily used in machine learning."
   ]
  },
  {
   "cell_type": "code",
   "execution_count": 6,
   "id": "06e6fe8d",
   "metadata": {},
   "outputs": [],
   "source": [
    "def export_proofs(splits: Dict[SPLIT_STRATEGY, SPLIT], dst_path: Path) -> None:\n",
    "    \"\"\"Export all proofs in a traced repo to ``dst_path''.\"\"\"\n",
    "    for strategy, split in splits.items():\n",
    "        split_dir = dst_path / strategy\n",
    "        split_dir.mkdir(parents=True)\n",
    "\n",
    "        for name, theorems in split.items():\n",
    "            data = []\n",
    "            num_tactics = 0\n",
    "\n",
    "            for thm in theorems:\n",
    "                tactics = [\n",
    "                    {\n",
    "                        \"tactic\": t.tactic,\n",
    "                        \"annotated_tactic\": t.get_annotated_tactic(),\n",
    "                        \"state_before\": t.state_before,\n",
    "                        \"state_after\": t.state_after,\n",
    "                    }\n",
    "                    for t in thm.get_traced_tactics()\n",
    "                    if t.state_before != \"no goals\"\n",
    "                    and \"·\" not in t.tactic  # Ignore \"·\".\n",
    "                ]\n",
    "                num_tactics += len(tactics)\n",
    "                data.append(\n",
    "                    {\n",
    "                        \"url\": thm.repo.url,\n",
    "                        \"commit\": thm.repo.commit,\n",
    "                        \"file_path\": str(thm.theorem.file_path),\n",
    "                        \"full_name\": thm.theorem.full_name,\n",
    "                        \"start\": list(thm.start),\n",
    "                        \"end\": list(thm.end),\n",
    "                        \"traced_tactics\": tactics,\n",
    "                    }\n",
    "                )\n",
    "            oup_path = split_dir / f\"{name}.json\"\n",
    "            json.dump(data, oup_path.open(\"wt\"))\n",
    "            logger.info(\n",
    "                f\"{len(theorems)} theorems and {num_tactics} tactics saved to {oup_path}\"\n",
    "            )\n",
    "\n",
    "\n",
    "def export_premises(traced_repo: TracedRepo, dst_path: Path) -> None:\n",
    "    \"\"\"Export all premise definitions in a traced repo to ``dst_path``.\"\"\"\n",
    "    oup_path = dst_path / \"corpus.jsonl\"\n",
    "    num_premises = 0\n",
    "\n",
    "    with oup_path.open(\"wt\") as oup:\n",
    "        G = traced_repo.traced_files_graph\n",
    "\n",
    "        for tf_node in reversed(list(nx.topological_sort(G))):\n",
    "            tf = G.nodes[tf_node][\"traced_file\"]\n",
    "            imports = [str(_) for _ in G.successors(tf_node)]\n",
    "            premises = tf.get_premise_definitions()\n",
    "            num_premises += len(premises)\n",
    "            oup.write(\n",
    "                json.dumps(\n",
    "                    {\"path\": str(tf.path), \"imports\": imports, \"premises\": premises}\n",
    "                )\n",
    "                + \"\\n\"\n",
    "            )\n",
    "    logger.info(\n",
    "        f\"{num_premises} theorems/definitions from {len(traced_repo.traced_files)} files saved to {oup_path}\"\n",
    "    )\n",
    "\n",
    "\n",
    "def export_licenses(traced_repo: TracedRepo, dst_path: Path) -> None:\n",
    "    \"\"\"Export the licenses of a traced repo and all its dependencies to ``dst_path``.\"\"\"\n",
    "    license_dir = dst_path / \"licenses\"\n",
    "    license_dir.mkdir()\n",
    "    all_repos = [traced_repo.repo] + list(traced_repo.dependencies.values())\n",
    "\n",
    "    for repo in all_repos:\n",
    "        lic = repo.get_license()\n",
    "        if lic is None:\n",
    "            continue\n",
    "        with (license_dir / repo.name).open(\"wt\") as oup:\n",
    "            oup.write(lic)\n",
    "\n",
    "    with (license_dir / \"README.md\").open(\"wt\") as oup:\n",
    "        oup.write(\n",
    "            \"This directory contains licenses of Lean repos used to generate this dataset. The dataset itself is released under [CC BY 2.0](https://creativecommons.org/licenses/by/2.0/).\"\n",
    "        )\n",
    "\n",
    "\n",
    "def export_metadata(traced_repo: TracedRepo, dst_path: Path, **kwargs) -> None:\n",
    "    \"\"\"Export the metadata of a traced repo to ``dst_path''.\"\"\"\n",
    "    metadata = dict(kwargs)\n",
    "    metadata[\"creation_time\"] = str(datetime.now())\n",
    "    metadata[\"from_repo\"] = {\n",
    "        \"url\": traced_repo.repo.url,\n",
    "        \"commit\": traced_repo.repo.commit,\n",
    "    }\n",
    "    metadata[\"leandojo_version\"] = lean_dojo.__version__\n",
    "    json.dump(metadata, (dst_path / \"metadata.json\").open(\"wt\"))\n",
    "\n",
    "\n",
    "def export_data(\n",
    "    traced_repo: TracedRepo,\n",
    "    splits: Dict[SPLIT_STRATEGY, SPLIT],\n",
    "    dst_path: Union[str, Path],\n",
    "    **kwargs,\n",
    ") -> None:\n",
    "    \"\"\"Export a traced repo whose theorems have been splitted to ``dst_path``.\"\"\"\n",
    "    if isinstance(dst_path, str):\n",
    "        dst_path = Path(dst_path)\n",
    "    if dst_path.exists():\n",
    "        logger.warning(f\"{dst_path} already exists. Removing it now.\")\n",
    "        shutil.rmtree(dst_path)\n",
    "\n",
    "    # Export the proofs.\n",
    "    export_proofs(splits, dst_path)\n",
    "\n",
    "    # Export the premises (theorems, definitions, etc.).\n",
    "    export_premises(traced_repo, dst_path)\n",
    "\n",
    "    # Export the licenses.\n",
    "    export_licenses(traced_repo, dst_path)\n",
    "\n",
    "    # Export metadata.\n",
    "    export_metadata(traced_repo, dst_path, **kwargs)"
   ]
  },
  {
   "cell_type": "code",
   "execution_count": 7,
   "id": "bc50220e",
   "metadata": {
    "scrolled": true
   },
   "outputs": [
    {
     "name": "stderr",
     "output_type": "stream",
     "text": [
      "\u001b[32m2024-03-09 20:37:18.704\u001b[0m | \u001b[1mINFO    \u001b[0m | \u001b[36mlean_dojo.data_extraction.trace\u001b[0m:\u001b[36mtrace\u001b[0m:\u001b[36m116\u001b[0m - \u001b[1mLoading the traced repo from /home/ubuntu/.cache/lean_dojo/leanprover-community-mathlib4-3c307701fa7e9acbdc0680d7f3b9c9fed9081740/mathlib4\u001b[0m\n",
      "2024-03-09 20:37:20,839\tINFO worker.py:1715 -- Started a local Ray instance. View the dashboard at \u001b[1m\u001b[32m127.0.0.1:8265 \u001b[39m\u001b[22m\n",
      "100%|███████████████████████████████████████████████████████████████████████████████████████████████| 5042/5042 [08:13<00:00, 10.21it/s]\n",
      "\u001b[32m2024-03-09 20:45:45.296\u001b[0m | \u001b[33m\u001b[1mWARNING \u001b[0m | \u001b[36mlean_dojo.data_extraction.lean\u001b[0m:\u001b[36m__post_init__\u001b[0m:\u001b[36m449\u001b[0m - \u001b[33m\u001b[1mLeanGitRepo(url='https://github.com/leanprover/lean4-cli', commit='a751d21d4b68c999accb6fc5d960538af26ad5ec') relies on an unsupported Lean version: ec941735c80dc54c53948e30c428905b6600f95a\u001b[0m\n",
      "\u001b[32m2024-03-09 20:46:06.264\u001b[0m | \u001b[33m\u001b[1mWARNING \u001b[0m | \u001b[36mlean_dojo.data_extraction.lean\u001b[0m:\u001b[36m__post_init__\u001b[0m:\u001b[36m449\u001b[0m - \u001b[33m\u001b[1mLeanGitRepo(url='https://github.com/leanprover/lean4-cli', commit='be8fa79a28b8b6897dce0713ef50e89c4a0f6ef5') relies on an unsupported Lean version: ec941735c80dc54c53948e30c428905b6600f95a\u001b[0m\n",
      "\u001b[32m2024-03-09 20:46:15.741\u001b[0m | \u001b[33m\u001b[1mWARNING \u001b[0m | \u001b[36mlean_dojo.data_extraction.lean\u001b[0m:\u001b[36m__post_init__\u001b[0m:\u001b[36m449\u001b[0m - \u001b[33m\u001b[1mLeanGitRepo(url='https://github.com/xubaiw/CMark.lean', commit='0077cbbaa92abf855fc1c0413e158ffd8195ec77') relies on an unsupported Lean version: 8fc1af650ad6d31cf766d9bc84119149330e7d4e\u001b[0m\n",
      "Following Github server redirection from /repos/mhuisi/lean4-cli to /repositories/341363356\n",
      "\u001b[32m2024-03-09 20:46:19.357\u001b[0m | \u001b[33m\u001b[1mWARNING \u001b[0m | \u001b[36mlean_dojo.data_extraction.lean\u001b[0m:\u001b[36m__post_init__\u001b[0m:\u001b[36m449\u001b[0m - \u001b[33m\u001b[1mLeanGitRepo(url='https://github.com/mhuisi/lean4-cli', commit='39229f3630d734af7d9cfb5937ddc6b41d3aa6aa') relies on an unsupported Lean version: 216d2460e0adec8317fdeeb6f2543cb7442564fd\u001b[0m\n",
      "\u001b[32m2024-03-09 20:46:26.069\u001b[0m | \u001b[33m\u001b[1mWARNING \u001b[0m | \u001b[36mlean_dojo.data_extraction.lean\u001b[0m:\u001b[36m__post_init__\u001b[0m:\u001b[36m449\u001b[0m - \u001b[33m\u001b[1mLeanGitRepo(url='https://github.com/fgdorais/lean4-unicode-basic', commit='280d75fdfe7be8eb337be7f1bf8479b4aac09f71') relies on an unsupported Lean version: 0d7051497ea09b2b4a4ef608e371b8f317487c3c\u001b[0m\n",
      "\u001b[32m2024-03-09 20:46:30.386\u001b[0m | \u001b[33m\u001b[1mWARNING \u001b[0m | \u001b[36mlean_dojo.data_extraction.lean\u001b[0m:\u001b[36m__post_init__\u001b[0m:\u001b[36m449\u001b[0m - \u001b[33m\u001b[1mLeanGitRepo(url='https://github.com/hargonix/LeanInk', commit='2447df5cc6e48eb965c3c3fba87e46d353b5e9f1') relies on an unsupported Lean version: f6cd6c069587cfe62dd68cb6330f9ad794a56724\u001b[0m\n",
      "\u001b[32m2024-03-09 20:47:27.781\u001b[0m | \u001b[1mINFO    \u001b[0m | \u001b[36m__main__\u001b[0m:\u001b[36msplit_data\u001b[0m:\u001b[36m6\u001b[0m - \u001b[1m106446 theorems in total\u001b[0m\n",
      "\u001b[32m2024-03-09 20:47:27.782\u001b[0m | \u001b[1mINFO    \u001b[0m | \u001b[36m__main__\u001b[0m:\u001b[36msplit_randomly\u001b[0m:\u001b[36m18\u001b[0m - \u001b[1mSplitting the theorems randomly\u001b[0m\n",
      "\u001b[32m2024-03-09 20:47:27.821\u001b[0m | \u001b[1mINFO    \u001b[0m | \u001b[36m__main__\u001b[0m:\u001b[36msplit_by_premise\u001b[0m:\u001b[36m8\u001b[0m - \u001b[1mSplitting the theorems by premises\u001b[0m\n",
      "\u001b[32m2024-03-09 20:47:59.892\u001b[0m | \u001b[1mINFO    \u001b[0m | \u001b[36m__main__\u001b[0m:\u001b[36mexport_proofs\u001b[0m:\u001b[36m37\u001b[0m - \u001b[1m102446 theorems and 212182 tactics saved to ../leandojo_benchmark_4/random/train.json\u001b[0m\n",
      "\u001b[32m2024-03-09 20:48:00.552\u001b[0m | \u001b[1mINFO    \u001b[0m | \u001b[36m__main__\u001b[0m:\u001b[36mexport_proofs\u001b[0m:\u001b[36m37\u001b[0m - \u001b[1m2000 theorems and 3828 tactics saved to ../leandojo_benchmark_4/random/val.json\u001b[0m\n",
      "\u001b[32m2024-03-09 20:48:00.974\u001b[0m | \u001b[1mINFO    \u001b[0m | \u001b[36m__main__\u001b[0m:\u001b[36mexport_proofs\u001b[0m:\u001b[36m37\u001b[0m - \u001b[1m2000 theorems and 3781 tactics saved to ../leandojo_benchmark_4/random/test.json\u001b[0m\n",
      "\u001b[32m2024-03-09 20:48:22.420\u001b[0m | \u001b[1mINFO    \u001b[0m | \u001b[36m__main__\u001b[0m:\u001b[36mexport_proofs\u001b[0m:\u001b[36m37\u001b[0m - \u001b[1m102446 theorems and 207649 tactics saved to ../leandojo_benchmark_4/novel_premises/train.json\u001b[0m\n",
      "\u001b[32m2024-03-09 20:48:23.276\u001b[0m | \u001b[1mINFO    \u001b[0m | \u001b[36m__main__\u001b[0m:\u001b[36mexport_proofs\u001b[0m:\u001b[36m37\u001b[0m - \u001b[1m2000 theorems and 6111 tactics saved to ../leandojo_benchmark_4/novel_premises/val.json\u001b[0m\n",
      "\u001b[32m2024-03-09 20:48:23.888\u001b[0m | \u001b[1mINFO    \u001b[0m | \u001b[36m__main__\u001b[0m:\u001b[36mexport_proofs\u001b[0m:\u001b[36m37\u001b[0m - \u001b[1m2000 theorems and 6031 tactics saved to ../leandojo_benchmark_4/novel_premises/test.json\u001b[0m\n",
      "\u001b[32m2024-03-09 20:48:50.659\u001b[0m | \u001b[1mINFO    \u001b[0m | \u001b[36m__main__\u001b[0m:\u001b[36mexport_premises\u001b[0m:\u001b[36m61\u001b[0m - \u001b[1m158266 theorems/definitions from 5042 files saved to ../leandojo_benchmark_4/corpus.jsonl\u001b[0m\n"
     ]
    }
   ],
   "source": [
    "repo = LeanGitRepo(URL, COMMIT)\n",
    "traced_repo = trace(repo)\n",
    "splits = split_data(traced_repo)\n",
    "export_data(traced_repo, splits, DST_DIR, dataset_name=\"LeanDojo Benchmark 4\")"
   ]
  },
  {
   "cell_type": "markdown",
   "id": "29e7f389",
   "metadata": {},
   "source": [
    "## Data Format\n",
    "\n",
    "This is the resulting data directory:\n",
    "\n",
    "```\n",
    "├─corpus.jsonl\n",
    "├─metadata.json\n",
    "├─licenses\n",
    "│ ├─lean4\n",
    "│ ├─mathlib4\n",
    "│ ├─doc-gen4\n",
    "│ ├─aesop\n",
    "│ ├─ProofWidgets4\n",
    "│ ├─std4\n",
    "│ └─README.md\n",
    "├─random\n",
    "│ ├─train.json\n",
    "│ ├─val.json\n",
    "│ └─test.json\n",
    "└─novel_premises\n",
    "  ├─train.json\n",
    "  ├─val.json\n",
    "  └─test.json\n",
    "```\n",
    "\n",
    "`corpus.jsonl` is a corpus of all theorems and definitions in mathlib4 that can potentially be used as premises. Sub-directories `random` and `novel_premise` are different strategies for splitting the theorems. For each strategy, we have `*.json` files for train/val/test. The sub-directory `licenses` contains license information.\n",
    "\n",
    "### Corpus of Potential Premises\n",
    "\n",
    "`corpus.jsonl` is in [JSON Lines format](https://jsonlines.org/); a line includes the potential premises defined in a single `*.lean` file."
   ]
  },
  {
   "cell_type": "code",
   "execution_count": 2,
   "id": "7427982d",
   "metadata": {},
   "outputs": [
    {
     "name": "stdout",
     "output_type": "stream",
     "text": [
      "5192\n"
     ]
    }
   ],
   "source": [
    "!cat ./leandojo_benchmark_4/corpus.jsonl | wc -l"
   ]
  },
  {
   "cell_type": "markdown",
   "id": "9cd110de",
   "metadata": {},
   "source": [
    "Let's look at one of them."
   ]
  },
  {
   "cell_type": "code",
   "execution_count": 9,
   "id": "cbca21c9",
   "metadata": {},
   "outputs": [
    {
     "data": {
      "text/plain": [
       "dict_keys(['path', 'imports', 'premises'])"
      ]
     },
     "execution_count": 9,
     "metadata": {},
     "output_type": "execute_result"
    }
   ],
   "source": [
    "corpus_path = DST_DIR / \"corpus.jsonl\"\n",
    "lines = list(corpus_path.open())\n",
    "file_in_corpus = json.loads(lines[2000])\n",
    "file_in_corpus.keys()"
   ]
  },
  {
   "cell_type": "markdown",
   "id": "0173a217",
   "metadata": {},
   "source": [
    "We can check the file's path and other files it imports."
   ]
  },
  {
   "cell_type": "code",
   "execution_count": 10,
   "id": "f5c1920a",
   "metadata": {},
   "outputs": [
    {
     "data": {
      "text/plain": [
       "('Mathlib/Data/MvPolynomial/Equiv.lean',\n",
       " ['Mathlib/Data/Finsupp/Fin.lean',\n",
       "  'Mathlib/Algebra/BigOperators/Fin.lean',\n",
       "  'Mathlib/Data/Polynomial/AlgebraMap.lean',\n",
       "  'Mathlib/Data/MvPolynomial/Variables.lean',\n",
       "  'Mathlib/Logic/Equiv/Fin.lean',\n",
       "  'Mathlib/Data/MvPolynomial/Rename.lean',\n",
       "  '.lake/packages/lean4/src/lean/Init.lean'])"
      ]
     },
     "execution_count": 10,
     "metadata": {},
     "output_type": "execute_result"
    }
   ],
   "source": [
    "file_in_corpus[\"path\"], file_in_corpus[\"imports\"]"
   ]
  },
  {
   "cell_type": "code",
   "execution_count": 11,
   "id": "d801a0ae",
   "metadata": {},
   "outputs": [
    {
     "data": {
      "text/plain": [
       "40"
      ]
     },
     "execution_count": 11,
     "metadata": {},
     "output_type": "execute_result"
    }
   ],
   "source": [
    "len(file_in_corpus[\"premises\"])"
   ]
  },
  {
   "cell_type": "markdown",
   "id": "178e1214",
   "metadata": {},
   "source": [
    "We can inspect the first potential premise:"
   ]
  },
  {
   "cell_type": "code",
   "execution_count": 12,
   "id": "b533d342",
   "metadata": {},
   "outputs": [
    {
     "data": {
      "text/plain": [
       "{'full_name': 'MvPolynomial.pUnitAlgEquiv',\n",
       " 'code': \"@[simps]\\ndef pUnitAlgEquiv : MvPolynomial PUnit R ≃ₐ[R] R[X] where\\n  toFun := eval₂ Polynomial.C fun _ => Polynomial.X\\n  invFun := Polynomial.eval₂ MvPolynomial.C (X PUnit.unit)\\n  left_inv := by\\n    let f : R[X] →+* MvPolynomial PUnit R := Polynomial.eval₂RingHom MvPolynomial.C (X PUnit.unit)\\n    let g : MvPolynomial PUnit R →+* R[X] := eval₂Hom Polynomial.C fun _ => Polynomial.X\\n    show ∀ p, f.comp g p = p\\n    apply is_id\\n    · ext a\\n      dsimp\\n      rw [eval₂_C, Polynomial.eval₂_C]\\n    · rintro ⟨⟩\\n      dsimp\\n      rw [eval₂_X, Polynomial.eval₂_X]\\n  right_inv p :=\\n    Polynomial.induction_on p (fun a => by rw [Polynomial.eval₂_C, MvPolynomial.eval₂_C])\\n    (fun p q hp hq => by rw [Polynomial.eval₂_add, MvPolynomial.eval₂_add, hp, hq]) fun p n _ => by\\n      rw [Polynomial.eval₂_mul, Polynomial.eval₂_pow, Polynomial.eval₂_X, Polynomial.eval₂_C,\\n        eval₂_mul, eval₂_C, eval₂_pow, eval₂_X]\\n  map_mul' _ _ := eval₂_mul _ _\\n  map_add' _ _ := eval₂_add _ _\\n  commutes' _ := eval₂_C _ _ _\",\n",
       " 'start': [61, 1],\n",
       " 'end': [86, 31],\n",
       " 'kind': 'commanddeclaration'}"
      ]
     },
     "execution_count": 12,
     "metadata": {},
     "output_type": "execute_result"
    }
   ],
   "source": [
    "file_in_corpus[\"premises\"][0]"
   ]
  },
  {
   "cell_type": "markdown",
   "id": "8b3649f1",
   "metadata": {},
   "source": [
    "Each premise has a fully qualified name, its definition (in the form of Lean code), and the exact location it is defined.\n",
    "\n",
    "\n",
    "### Theorems/Proofs Data\n",
    "\n",
    "Now let's take a look at the theorems/proofs data, taking the `random` split as an example."
   ]
  },
  {
   "cell_type": "code",
   "execution_count": 13,
   "id": "4fb19aa3",
   "metadata": {},
   "outputs": [
    {
     "data": {
      "text/plain": [
       "102446"
      ]
     },
     "execution_count": 13,
     "metadata": {},
     "output_type": "execute_result"
    }
   ],
   "source": [
    "train_path = DST_DIR / \"random/train.json\"\n",
    "proofs_train = json.load(train_path.open())\n",
    "len(proofs_train)"
   ]
  },
  {
   "cell_type": "markdown",
   "id": "2ad702de",
   "metadata": {},
   "source": [
    "Each element in `proofs_val` represents a theorem. Let's check one of them."
   ]
  },
  {
   "cell_type": "code",
   "execution_count": 14,
   "id": "3cc47f7e",
   "metadata": {},
   "outputs": [
    {
     "data": {
      "text/plain": [
       "dict_keys(['url', 'commit', 'file_path', 'full_name', 'start', 'end', 'traced_tactics'])"
      ]
     },
     "execution_count": 14,
     "metadata": {},
     "output_type": "execute_result"
    }
   ],
   "source": [
    "for proof in proofs_train[::-1]:\n",
    "    if proof[\"traced_tactics\"] != []:\n",
    "        break\n",
    "proof.keys()"
   ]
  },
  {
   "cell_type": "code",
   "execution_count": 15,
   "id": "3c2c36a7",
   "metadata": {},
   "outputs": [
    {
     "data": {
      "text/plain": [
       "('https://github.com/leanprover-community/mathlib4',\n",
       " '3c307701fa7e9acbdc0680d7f3b9c9fed9081740',\n",
       " 'Mathlib/Analysis/SpecialFunctions/Exp.lean',\n",
       " 'Real.comap_exp_nhdsWithin_Ioi_zero')"
      ]
     },
     "execution_count": 15,
     "metadata": {},
     "output_type": "execute_result"
    }
   ],
   "source": [
    "proof[\"url\"], proof[\"commit\"], proof[\"file_path\"], proof[\"full_name\"]"
   ]
  },
  {
   "cell_type": "markdown",
   "id": "4969e5ab",
   "metadata": {},
   "source": [
    "We see the theorem's name and where it is defined. The thereom includes some traced tactics."
   ]
  },
  {
   "cell_type": "code",
   "execution_count": 16,
   "id": "c29987ff",
   "metadata": {},
   "outputs": [
    {
     "data": {
      "text/plain": [
       "1"
      ]
     },
     "execution_count": 16,
     "metadata": {},
     "output_type": "execute_result"
    }
   ],
   "source": [
    "len(proof[\"traced_tactics\"])"
   ]
  },
  {
   "cell_type": "markdown",
   "id": "cedebf93",
   "metadata": {},
   "source": [
    "Let's look at a traced tactic."
   ]
  },
  {
   "cell_type": "code",
   "execution_count": 17,
   "id": "a734d788",
   "metadata": {},
   "outputs": [
    {
     "data": {
      "text/plain": [
       "{'tactic': 'rw [← map_exp_atBot, comap_map exp_injective]',\n",
       " 'annotated_tactic': ['rw [← <a>map_exp_atBot</a>, <a>comap_map</a> <a>exp_injective</a>]',\n",
       "  [{'full_name': 'Real.map_exp_atBot',\n",
       "    'def_path': 'Mathlib/Analysis/SpecialFunctions/Exp.lean',\n",
       "    'def_pos': [328, 9],\n",
       "    'def_end_pos': [328, 22]},\n",
       "   {'full_name': 'Filter.comap_map',\n",
       "    'def_path': 'Mathlib/Order/Filter/Basic.lean',\n",
       "    'def_pos': [2470, 9],\n",
       "    'def_end_pos': [2470, 18]},\n",
       "   {'full_name': 'Real.exp_injective',\n",
       "    'def_path': 'Mathlib/Data/Complex/Exponential.lean',\n",
       "    'def_pos': [1229, 9],\n",
       "    'def_end_pos': [1229, 22]}]],\n",
       " 'state_before': 'α : Type u_1\\nx y z : ℝ\\nl : Filter α\\n⊢ comap rexp (𝓝[>] 0) = atBot',\n",
       " 'state_after': 'no goals'}"
      ]
     },
     "execution_count": 17,
     "metadata": {},
     "output_type": "execute_result"
    }
   ],
   "source": [
    "proof[\"traced_tactics\"][0]"
   ]
  },
  {
   "cell_type": "markdown",
   "id": "b5ba66f6",
   "metadata": {},
   "source": [
    "`annotated_tactic` is the tactic with premises annotated by `<a> ... </a>`. For each premise, we know its fully qualified name and the exact location it is defined, which is invaluable for training machine learning models for premise selection."
   ]
  },
  {
   "cell_type": "markdown",
   "id": "a174f63b",
   "metadata": {},
   "source": [
    "### Added by JC"
   ]
  },
  {
   "cell_type": "code",
   "execution_count": 4,
   "id": "2db5ccde",
   "metadata": {},
   "outputs": [
    {
     "data": {
      "text/plain": [
       "112729"
      ]
     },
     "execution_count": 4,
     "metadata": {},
     "output_type": "execute_result"
    }
   ],
   "source": [
    "from pathlib import Path\n",
    "import json\n",
    "# this can be download from https://zenodo.org/doi/10.5281/zenodo.8040109 for convenience, but may need to re-trace the latest version Mathlib later using the code above\n",
    "DST_DIR = Path(\"./leandojo_benchmark_4\")        \n",
    "train_path = DST_DIR / \"random/train.json\"\n",
    "proofs_train = json.load(train_path.open())\n",
    "len(proofs_train)"
   ]
  },
  {
   "cell_type": "code",
   "execution_count": 5,
   "id": "87aef9fc",
   "metadata": {},
   "outputs": [
    {
     "name": "stdout",
     "output_type": "stream",
     "text": [
      "<class 'dict'>\n",
      "dict_keys(['url', 'commit', 'file_path', 'full_name', 'start', 'end', 'traced_tactics'])\n",
      "Mathlib/GroupTheory/Perm/Cycle/Type.lean Equiv.Perm.partition_eq_of_isConj [559, 1] [564, 89]\n",
      "4\n",
      "dict_keys(['tactic', 'annotated_tactic', 'state_before', 'state_after'])\n",
      "before_state: α : Type u_1\n",
      "inst✝¹ : Fintype α\n",
      "inst✝ : DecidableEq α\n",
      "σ τ : Perm α\n",
      "⊢ IsConj σ τ ↔ partition σ = partition τ\n",
      "************************\n",
      "after_state: α : Type u_1\n",
      "inst✝¹ : Fintype α\n",
      "inst✝ : DecidableEq α\n",
      "σ τ : Perm α\n",
      "⊢ cycleType σ = cycleType τ ↔ partition σ = partition τ\n",
      "************************\n",
      "before_state: α : Type u_1\n",
      "inst✝¹ : Fintype α\n",
      "inst✝ : DecidableEq α\n",
      "σ τ : Perm α\n",
      "⊢ cycleType σ = cycleType τ ↔ partition σ = partition τ\n",
      "************************\n",
      "after_state: case refine'_1\n",
      "α : Type u_1\n",
      "inst✝¹ : Fintype α\n",
      "inst✝ : DecidableEq α\n",
      "σ τ : Perm α\n",
      "h : cycleType σ = cycleType τ\n",
      "⊢ partition σ = partition τ\n",
      "\n",
      "case refine'_2\n",
      "α : Type u_1\n",
      "inst✝¹ : Fintype α\n",
      "inst✝ : DecidableEq α\n",
      "σ τ : Perm α\n",
      "h : partition σ = partition τ\n",
      "⊢ cycleType σ = cycleType τ\n",
      "************************\n",
      "before_state: case refine'_1\n",
      "α : Type u_1\n",
      "inst✝¹ : Fintype α\n",
      "inst✝ : DecidableEq α\n",
      "σ τ : Perm α\n",
      "h : cycleType σ = cycleType τ\n",
      "⊢ partition σ = partition τ\n",
      "************************\n",
      "after_state: no goals\n",
      "************************\n",
      "before_state: case refine'_2\n",
      "α : Type u_1\n",
      "inst✝¹ : Fintype α\n",
      "inst✝ : DecidableEq α\n",
      "σ τ : Perm α\n",
      "h : partition σ = partition τ\n",
      "⊢ cycleType σ = cycleType τ\n",
      "************************\n",
      "after_state: no goals\n",
      "************************\n"
     ]
    }
   ],
   "source": [
    "# test\n",
    "\n",
    "print(type(proofs_train[0]))\n",
    "print(proofs_train[0].keys())\n",
    "for proof in proofs_train:\n",
    "    if len(proof['traced_tactics']) > 1:\n",
    "        print(proof['file_path'], proof['full_name'], proof['start'], proof['end'])\n",
    "        traced_tactics = proof['traced_tactics']\n",
    "        print(len(traced_tactics))\n",
    "        print(traced_tactics[0].keys())\n",
    "        for tac in traced_tactics:\n",
    "            print(f\"before_state: {tac['state_before']}\")\n",
    "            print(\"************************\")\n",
    "            print(f\"after_state: {tac['state_after']}\")\n",
    "            print(\"************************\")\n",
    "        break"
   ]
  },
  {
   "cell_type": "code",
   "execution_count": 6,
   "id": "95bd641a",
   "metadata": {},
   "outputs": [],
   "source": [
    "# Construct dataset\n",
    "\"\"\"\n",
    "Format:\n",
    "\n",
    "High-level:\n",
    "<INPUT> <s> {cur_state} <\\s> </INPUT> <OUTPUT> <g> {goal_state} <\\g> </OUTPUT>\n",
    "\n",
    "Low-level:\n",
    "<INPUT> <s> {cur_state} <\\s> <g> {goal_state} </g> </INPUT> <OUTPUT> <t> {tactic} </t> <OUTPUT>\n",
    "\"\"\"\n",
    "\n",
    "\n",
    "\n",
    "high_level_question = \"<INPUT> <s> {cur_state} <\\s> </INPUT>\"\n",
    "high_level_answer = \"<OUTPUT> <g> {goal_state} <\\g> </OUTPUT>\"\n",
    "low_level_question = \"<INPUT> <s> {cur_state} <\\s> <g> {goal_state} </g> </INPUT>\"\n",
    "low_level_answer = \"<OUTPUT> <t> {tactic} </t> <OUTPUT>\"\n",
    "\n",
    "high_level_set = []\n",
    "low_level_set = []\n",
    "\n",
    "# build two list of training data\n",
    "for proof in proofs_train:\n",
    "    if len(proof['traced_tactics']) > 1:\n",
    "        for tac in traced_tactics:\n",
    "            hl_q = high_level_question.format(cur_state=tac['state_before'])\n",
    "            hl_a = high_level_answer.format(goal_state=tac['state_after'])\n",
    "\n",
    "            ll_q = low_level_question.format(cur_state=tac['state_before'], goal_state=tac['state_after'])\n",
    "            ll_a = low_level_answer.format(tactic=tac['tactic'])\n",
    "\n",
    "            high_level_set.append({'Input': hl_q, 'Output': hl_a})\n",
    "            low_level_set.append({'Input': ll_q, 'Output': ll_a})\n",
    "\n",
    "\n",
    "# to save the raw dataset"
   ]
  },
  {
   "cell_type": "code",
   "execution_count": 8,
   "id": "c4b91edf",
   "metadata": {},
   "outputs": [],
   "source": [
    "from datasets import Dataset\n",
    "\n",
    "# transfer to hugging face dataset\n",
    "hg_high_level_dataset = Dataset.from_list(high_level_set)\n",
    "\n",
    "\n",
    "# then can use tokenizer to prepocess the dataset for training in transformers package"
   ]
  }
 ],
 "metadata": {
  "kernelspec": {
   "display_name": "Python 3 (ipykernel)",
   "language": "python",
   "name": "python3"
  },
  "language_info": {
   "codemirror_mode": {
    "name": "ipython",
    "version": 3
   },
   "file_extension": ".py",
   "mimetype": "text/x-python",
   "name": "python",
   "nbconvert_exporter": "python",
   "pygments_lexer": "ipython3",
   "version": "3.10.14"
  }
 },
 "nbformat": 4,
 "nbformat_minor": 5
}
